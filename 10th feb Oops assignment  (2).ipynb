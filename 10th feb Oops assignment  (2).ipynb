{
 "cells": [
  {
   "cell_type": "raw",
   "id": "ad23ddc5-b444-4585-87fb-211dde3ca1ec",
   "metadata": {},
   "source": [
    "#  Q1. Which function is used to open a file? What are the different modes of opening a file? Explain each mode\n",
    "#  of file opening.\n",
    "\n",
    "#  Ans:There are many modes for opening a file they are, r -  open a file in read mode. w - opens or create a text file in write mode. a - opens a file in append mode.\n",
    "\n",
    "\n",
    "#  Read Only (‘r’) : Open text file for reading. The handle is positioned at the beginning of the file. If the file does not exists, raises the I/O error. This is also the default mode in which a file is opened.\n",
    "#  Read and Write (‘r+’): Open the file for reading and writing. The handle is positioned at the beginning of the file. Raises I/O error if the file does not exist.\n",
    "#  Write Only (‘w’) : Open the file for writing. For the existing files, the data is truncated and over-written. The handle is positioned at the beginning of the file. Creates the file if the file does not exist.\n",
    "#  Write and Read (‘w+’) : Open the file for reading and writing. For an existing file, data is truncated and over-written. The handle is positioned at the beginning of the file.\n",
    "#  Append Only (‘a’): Open the file for writing. The file is created if it does not exist. The handle is positioned at the end of the file. The data being written will be inserted at the end, after the existing data.\n",
    "#  Append and Read (‘a+’) : Open the file for reading and writing. The file is created if it does not exist. The handle is positioned at the end of the file. The data being written will be inserted at the end, after the existing data.\n"
   ]
  },
  {
   "cell_type": "raw",
   "id": "70f15153-14fb-4918-baf0-3ff905c2f407",
   "metadata": {},
   "source": [
    "#  Q2. Why close() function is used? Why is it important to close a file?\n",
    "#  Ans: The close() method closes an open file. You should always close your files, in some cases, due to buffering, changes made to a file may not show until you close the file."
   ]
  },
  {
   "cell_type": "code",
   "execution_count": 2,
   "id": "82524369-62c5-4265-b7bc-ee1e3ddacbbd",
   "metadata": {},
   "outputs": [
    {
     "name": "stdout",
     "output_type": "stream",
     "text": [
      "I want to become a Data Scientist\n"
     ]
    }
   ],
   "source": [
    "#  Q3. Write a python program to create a text file. Write ‘I want to become a Data Scientist’ in that file. Then\n",
    "#  close the file. Open this file and read the content of the file.\n",
    "\n",
    "#  sol:\n",
    "\n",
    "f = open(\"Myfile.txt\" , \"w\")\n",
    "f.write(\"I want to become a Data Scientist\")\n",
    "f.close()\n",
    "\n",
    "f = open(\"Myfile.txt\" , \"r\")\n",
    "print(f.read())\n",
    "\n"
   ]
  },
  {
   "cell_type": "code",
   "execution_count": 3,
   "id": "3bea3ee0-fc4b-4c0e-a7f8-4916ddf93044",
   "metadata": {},
   "outputs": [
    {
     "name": "stdout",
     "output_type": "stream",
     "text": [
      "First line \n",
      "\n",
      "['First line \\n', '\\n', ' second line\\n', ' third line\\n', 'fourthline']\n"
     ]
    }
   ],
   "source": [
    "#  Q4. Explain the following with python code: read(), readline() and readlines().\n",
    "\n",
    "f1 = open(\"Myfile1.txt\" , \"w\")\n",
    "f1.write(\"First line \\n\"  \"\\n second line\" \"\\n third line\"  \"\\nfourthline\")\n",
    "f1.close()\n",
    "\n",
    "f1 = open(\"Myfile1.txt\" , \"r\")\n",
    "myline = f1.readline()\n",
    "print(myline)\n",
    "\n",
    "\n",
    "f1 = open(\"Myfile1.txt\" , \"r\")\n",
    "myline = f1.readlines()\n",
    "print(myline)\n",
    "\n"
   ]
  },
  {
   "cell_type": "code",
   "execution_count": 2,
   "id": "93851143-f7e8-48aa-9703-ce1f7473a004",
   "metadata": {},
   "outputs": [],
   "source": [
    "#  Q5 Explain why with statement is used with open(). What is the advantage of using with statement and\n",
    "#  open() together?\n",
    "\n",
    "#  Ans: the with statement closes the file for you without you telling it to.\n",
    "#  Using with means that the file will be closed as soon as you leave the block\n",
    "\n",
    "\n",
    "#withour using with statement\n",
    "\n",
    "file = open(\"myfile.txt\" ,'w')\n",
    "file.write(\"hello world\")\n",
    "file.close()\n",
    "\n",
    "\n",
    "\n",
    "file1 = open(\"myfile1.txt\" ,'w')\n",
    "try:\n",
    "    file1.write(\"hello world\")\n",
    "finally:\n",
    "    file1.close()\n",
    "    \n",
    "    \n",
    "#using with statement\n",
    "with open(\"myfile3.txt\",'w') as file3:\n",
    "    file3.write('hello world')\n",
    "\n"
   ]
  },
  {
   "cell_type": "code",
   "execution_count": 1,
   "id": "8ce9bc7b-1932-4e76-8b66-7fccaac69b2c",
   "metadata": {},
   "outputs": [
    {
     "name": "stdin",
     "output_type": "stream",
     "text": [
      "Ente the name of the employee:  sum\n"
     ]
    },
    {
     "name": "stdout",
     "output_type": "stream",
     "text": [
      "Data is written into the file.\n"
     ]
    },
    {
     "name": "stdin",
     "output_type": "stream",
     "text": [
      "Enter the name of employee:  edh\n"
     ]
    },
    {
     "name": "stdout",
     "output_type": "stream",
     "text": [
      "Data is written into the files.\n"
     ]
    }
   ],
   "source": [
    "#  Q6. Explain the write() and writelines() functions. Give a suitable example.\n",
    "\n",
    "file = open(\"Myfile2.txt\" , \"w\")\n",
    "name = input(\"Ente the name of the employee: \")\n",
    "file.write(name)\n",
    "file.write(\"\\n\")\n",
    "\n",
    "file.close()\n",
    "\n",
    "print(\"Data is written into the file.\")\n",
    "\n",
    "\n",
    "file1 = open(\"Myfile3.txt\" , \"w\")\n",
    "lst = []\n",
    "name = input(\"Enter the name of employee: \")\n",
    "\n",
    "file1.writelines(lst)\n",
    "file1.close()\n",
    "print(\"Data is written into the files.\")        "
   ]
  },
  {
   "cell_type": "code",
   "execution_count": null,
   "id": "5c7120fd-c5d0-44d9-beb4-0abe1dd93f94",
   "metadata": {},
   "outputs": [],
   "source": []
  }
 ],
 "metadata": {
  "kernelspec": {
   "display_name": "Python 3 (ipykernel)",
   "language": "python",
   "name": "python3"
  },
  "language_info": {
   "codemirror_mode": {
    "name": "ipython",
    "version": 3
   },
   "file_extension": ".py",
   "mimetype": "text/x-python",
   "name": "python",
   "nbconvert_exporter": "python",
   "pygments_lexer": "ipython3",
   "version": "3.10.8"
  }
 },
 "nbformat": 4,
 "nbformat_minor": 5
}
